{
  "cells": [
    {
      "cell_type": "markdown",
      "metadata": {
        "id": "view-in-github",
        "colab_type": "text"
      },
      "source": [
        "<a href=\"https://colab.research.google.com/github/Sankiee/YunSolutions/blob/main/Musicrec.ipynb\" target=\"_parent\"><img src=\"https://colab.research.google.com/assets/colab-badge.svg\" alt=\"Open In Colab\"/></a>"
      ]
    },
    {
      "cell_type": "code",
      "execution_count": 4,
      "metadata": {
        "id": "uQGCqYvtCN_Y"
      },
      "outputs": [],
      "source": [
        "import librosa #for audio signal processing\n",
        "import soundfile #for reading audio files\n",
        "import numpy as np #for calculations\n",
        "import matplotlib.pyplot as plt #for plotting the final graph\n"
      ]
    },
    {
      "cell_type": "code",
      "execution_count": 8,
      "metadata": {
        "colab": {
          "base_uri": "https://localhost:8080/"
        },
        "id": "foHAXyeoCN_b",
        "outputId": "fd4f1ecb-7b45-49c6-f43a-77889cbe70af"
      },
      "outputs": [
        {
          "output_type": "execute_result",
          "data": {
            "text/plain": [
              "235.28780045351473"
            ]
          },
          "metadata": {},
          "execution_count": 8
        }
      ],
      "source": [
        "audio_file = \"/Rock On!! - Rock On!! 128 Kbps.mp3\" #reading the audio file\n",
        "audio_signal, sample_rate = librosa.load(audio_file) #loading the audio signal and sampling rate\n",
        "sample_rate\n",
        "len(audio_signal)/sample_rate\n"
      ]
    },
    {
      "cell_type": "code",
      "execution_count": 9,
      "metadata": {
        "colab": {
          "base_uri": "https://localhost:8080/"
        },
        "id": "Mi_pJ4Y1CN_b",
        "outputId": "eed94604-0977-4299-e1c4-3dc357e7aec5"
      },
      "outputs": [
        {
          "output_type": "execute_result",
          "data": {
            "text/plain": [
              "array([[-498.4359, -498.4359, -498.4359, ..., -498.4359, -498.4359,\n",
              "        -498.4359],\n",
              "       [   0.    ,    0.    ,    0.    , ...,    0.    ,    0.    ,\n",
              "           0.    ],\n",
              "       [   0.    ,    0.    ,    0.    , ...,    0.    ,    0.    ,\n",
              "           0.    ],\n",
              "       ...,\n",
              "       [   0.    ,    0.    ,    0.    , ...,    0.    ,    0.    ,\n",
              "           0.    ],\n",
              "       [   0.    ,    0.    ,    0.    , ...,    0.    ,    0.    ,\n",
              "           0.    ],\n",
              "       [   0.    ,    0.    ,    0.    , ...,    0.    ,    0.    ,\n",
              "           0.    ]], dtype=float32)"
            ]
          },
          "metadata": {},
          "execution_count": 9
        }
      ],
      "source": [
        "mfccs = librosa.feature.mfcc(y=audio_signal, sr=sample_rate, n_mfcc=13) #Extract features using Mel-Frequency Cepstral Coefficients (MFCCs)\n",
        "mfccs"
      ]
    },
    {
      "cell_type": "code",
      "execution_count": 10,
      "metadata": {
        "colab": {
          "base_uri": "https://localhost:8080/"
        },
        "id": "va8SfeFPCN_c",
        "outputId": "2912b11f-c16b-4243-d07f-94c59644ef55"
      },
      "outputs": [
        {
          "output_type": "execute_result",
          "data": {
            "text/plain": [
              "array([-59.767952  ,  81.903854  ,   4.220312  ,  24.475534  ,\n",
              "         2.2303483 ,   8.194776  ,  -4.5542197 ,   3.5872989 ,\n",
              "        -1.4127073 ,   0.82736003,  -3.0677497 ,   2.313048  ,\n",
              "        -2.9155407 ], dtype=float32)"
            ]
          },
          "metadata": {},
          "execution_count": 10
        }
      ],
      "source": [
        "mfccs_mean = np.mean(mfccs, axis=1) #Calculate the mean of each MFCC coefficient across time\n",
        "mfccs_mean\n"
      ]
    },
    {
      "cell_type": "code",
      "execution_count": 11,
      "metadata": {
        "id": "UKXqlHOMCN_c"
      },
      "outputs": [],
      "source": [
        "#Defining the emotion categories and their corresponding MFCC values\n",
        "emotions = {                                        \n",
        "    \"angry\": [2, 3, 4, 5, 6, 7],\n",
        "    \"calm\": [1, 8, 9],\n",
        "    \"happy\": [11, 12],\n",
        "    \"sad\": [0, 10]\n",
        "}"
      ]
    },
    {
      "cell_type": "code",
      "execution_count": 12,
      "metadata": {
        "id": "x6ZzvQ9zCN_c"
      },
      "outputs": [],
      "source": [
        "def classify_emotion(mfccs_mean, emotions):   # Classify the emotion based on the MFCC values\n",
        "    max_value = -float('inf')\n",
        "    emotion = \"\"\n",
        "    for key, value in emotions.items():\n",
        "        mean = np.mean(mfccs_mean[value])\n",
        "        if mean > max_value:\n",
        "            max_value = mean\n",
        "            emotion = key\n",
        "    return emotion"
      ]
    },
    {
      "cell_type": "code",
      "execution_count": 13,
      "metadata": {
        "id": "ozpluFhCCN_c"
      },
      "outputs": [],
      "source": [
        "# Classify the emotion for each 1-second segment of the audio file\n",
        "emotions_list = []\n",
        "for i in range(0, len(audio_signal), sample_rate):\n",
        "    window = audio_signal[i:i+sample_rate]\n",
        "    mfccs = librosa.feature.mfcc(y=window, sr=sample_rate, n_mfcc=13)\n",
        "    mfccs_mean = np.mean(mfccs, axis=1)\n",
        "    emotion = classify_emotion(mfccs_mean, emotions)\n",
        "    emotions_list.append(emotion)"
      ]
    },
    {
      "cell_type": "code",
      "execution_count": 14,
      "metadata": {
        "colab": {
          "base_uri": "https://localhost:8080/",
          "height": 472
        },
        "id": "K5WF6gOpCN_d",
        "outputId": "a19da1f8-d713-482a-c5c7-66e4bea50088"
      },
      "outputs": [
        {
          "output_type": "display_data",
          "data": {
            "text/plain": [
              "<Figure size 640x480 with 1 Axes>"
            ],
            "image/png": "[encoded data removed]"
          },
          "metadata": {}
        }
      ],
      "source": [
        "# Plot the emotional changes throughout the audio file\n",
        "plt.plot(emotions_list)\n",
        "plt.title(\"Emotional Changes\")\n",
        "plt.xlabel(\"Time (s)\")\n",
        "plt.ylabel(\"Emotion\")\n",
        "plt.show()"
      ]
    }
  ],
  "metadata": {
    "kernelspec": {
      "display_name": "Python 3",
      "language": "python",
      "name": "python3"
    },
    "language_info": {
      "codemirror_mode": {
        "name": "ipython",
        "version": 3
      },
      "file_extension": ".py",
      "mimetype": "text/x-python",
      "name": "python",
      "nbconvert_exporter": "python",
      "pygments_lexer": "ipython3",
      "version": "3.10.6"
    },
    "orig_nbformat": 4,
    "colab": {
      "provenance": [],
      "include_colab_link": true
    }
  },
  "nbformat": 4,
  "nbformat_minor": 0
}